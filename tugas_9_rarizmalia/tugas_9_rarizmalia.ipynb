{
 "metadata": {
  "language_info": {
   "codemirror_mode": {
    "name": "ipython",
    "version": 3
   },
   "file_extension": ".py",
   "mimetype": "text/x-python",
   "name": "python",
   "nbconvert_exporter": "python",
   "pygments_lexer": "ipython3",
   "version": "3.8.2-final"
  },
  "orig_nbformat": 2,
  "kernelspec": {
   "name": "python382jvsc74a57bd0e9d12dcec784c5cd06472c2b4df84608afba6c2aea0afa24b7428b5f294bac5f",
   "display_name": "Python 3.8.2 32-bit"
  }
 },
 "nbformat": 4,
 "nbformat_minor": 2,
 "cells": [
  {
   "source": [
    "Dengan menggunakan tabel bios yang kita gunakan pada materi (dengan import bios.json) kerjakan soal di bawah ini dengan menuliskan query yang digunakan."
   ],
   "cell_type": "markdown",
   "metadata": {}
  },
  {
   "source": [
    "1. Tuliskan query yang digunakan untuk mencari data programmer dengan kriteria:\n",
    "\n",
    " - id lebih kecil dari 5"
   ],
   "cell_type": "markdown",
   "metadata": {}
  },
  {
   "cell_type": "code",
   "execution_count": 17,
   "metadata": {},
   "outputs": [],
   "source": [
    "'''\n",
    "tuliskan jawaban no satu di sini\n",
    "\n",
    "db.bios.find(\n",
    "    {\"_id\":{$lt:5}}\n",
    "    )\n",
    "\n",
    "\n",
    "\n",
    "\n",
    "'''"
   ]
  },
  {
   "source": [
    "2. Tuliskan query yang digunakan untuk mencari data programmer dengan kriteria:\n",
    "\n",
    "- lahir di atas tahun 1950\n",
    "- mendapatkan award diatas tahun 2000"
   ],
   "cell_type": "markdown",
   "metadata": {}
  },
  {
   "cell_type": "code",
   "execution_count": null,
   "metadata": {},
   "outputs": [],
   "source": [
    "'''\n",
    "tuliskan jawaban no dua di sini\n",
    "\n",
    "db.bios.find(\n",
    "    {\"birth\":{$gt:ISODate('1950-01-01T00:00:00Z')},\n",
    "    \"awards.year\":{$gt:2000}}\n",
    ")\n",
    "\n",
    "\n",
    "\n",
    "\n",
    "'''"
   ]
  },
  {
   "source": [
    "3. Tuliskan query yang digunakan untuk mencari data programmer dengan kriteria:\n",
    "\n",
    "- Nama depannya di awali huruf J\n",
    "- mendapatkan Turing Award"
   ],
   "cell_type": "markdown",
   "metadata": {}
  },
  {
   "cell_type": "code",
   "execution_count": null,
   "metadata": {},
   "outputs": [],
   "source": [
    "'''\n",
    "tuliskan jawaban no tiga di sini\n",
    "\n",
    "db.bios.find(\n",
    "    {\"name.first\":{$regex: /^J/},\n",
    "    \"awards.award\":\"Turing Award\"}\n",
    ")\n",
    "\n",
    "\n",
    "\n",
    "\n",
    "'''"
   ]
  }
 ]
}