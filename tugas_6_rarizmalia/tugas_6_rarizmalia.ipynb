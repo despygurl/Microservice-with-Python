{
 "metadata": {
  "language_info": {
   "codemirror_mode": {
    "name": "ipython",
    "version": 3
   },
   "file_extension": ".py",
   "mimetype": "text/x-python",
   "name": "python",
   "nbconvert_exporter": "python",
   "pygments_lexer": "ipython3",
   "version": "3.8.2-final"
  },
  "orig_nbformat": 2,
  "kernelspec": {
   "name": "python3",
   "display_name": "Python 3.8.2 32-bit",
   "metadata": {
    "interpreter": {
     "hash": "e9d12dcec784c5cd06472c2b4df84608afba6c2aea0afa24b7428b5f294bac5f"
    }
   }
  }
 },
 "nbformat": 4,
 "nbformat_minor": 2,
 "cells": [
  {
   "source": [
    "1. Buatlah sebuah fungsi untuk membaca dan menampilkan keseluruhan file txt dengan input fungsi berupa nama file."
   ],
   "cell_type": "markdown",
   "metadata": {}
  },
  {
   "cell_type": "code",
   "execution_count": 1,
   "metadata": {},
   "outputs": [
    {
     "output_type": "stream",
     "name": "stdout",
     "text": [
      "Kata programming mungkin sudah tidak asing lagi di telinga kita. \nProgramming sangat erat kaitannya dengan industri IT. \nBanyak hal yang telah dihasilkan dari programming yang saat ini sudah jadi konsumsi kita sehari-hari, seperti produk-produk microsoft, facebook, apple dan lain sebagainya.\n"
     ]
    }
   ],
   "source": [
    "#kerjakan soal no.1 pada sel ini\n",
    "\n",
    "#read_txt(fname)\n",
    "#output diharapkan\n",
    "# Kata programming mungkin sudah tidak asing lagi di telinga kita. \n",
    "# Programming sangat erat kaitannya dengan industri IT. \n",
    "# Banyak hal yang telah dihasilkan dari programming yang saat ini sudah jadi konsumsi kita sehari-hari, seperti produk-produk microsoft, facebook, apple dan lain sebagainya.\n",
    "\n",
    "def read_txt(fname):\n",
    "    open_file = open(fname)\n",
    "    read_data = open_file.read()\n",
    "    print(read_data)\n",
    "\n",
    "nama_file = '1.txt'\n",
    "read_txt(nama_file)"
   ]
  },
  {
   "source": [
    "2. Buatlah sebuah fungsi yang ketika dijalankan akan meminta inputan langsung dari user dan dipakai untuk menampilkan sebuah string"
   ],
   "cell_type": "markdown",
   "metadata": {}
  },
  {
   "cell_type": "code",
   "execution_count": 2,
   "metadata": {},
   "outputs": [
    {
     "output_type": "stream",
     "name": "stdout",
     "text": [
      "Nama anda adalah Mahdi\n"
     ]
    }
   ],
   "source": [
    "# kerjakan soal no.2 pada sel ini \n",
    "# input_user()\n",
    "#output diharapkan\n",
    "#\"Masukkan nama anda : \"\n",
    "#\"Nama anda adalah Mahdi\"\n",
    "\n",
    "def input_user():\n",
    "    nama_user = input(\"Masukkan nama anda: \")\n",
    "    print(\"Nama anda adalah {}\".format(nama_user))\n",
    "\n",
    "input_user()"
   ]
  },
  {
   "source": [
    "3.  Buatlah sebuah fungsi untuk membaca file json yang disediakan dan mengambil data \"cases\" covid di indonesia. return menjadi satu buah list.  "
   ],
   "cell_type": "markdown",
   "metadata": {}
  },
  {
   "cell_type": "code",
   "execution_count": 3,
   "metadata": {},
   "outputs": [
    {
     "output_type": "stream",
     "name": "stdout",
     "text": [
      "[57770, 59394, 60695, 62142, 63749, 64958, 66226, 68079, 70736, 72347, 74018, 75699, 76981, 78572, 80094, 81668, 83130, 84882, 86521, 88214, 89869, 91751, 93657, 95418, 97286, 98778, 100303, 102051, 104432, 106336, 108376, 109936, 111455, 113134, 115056, 116871, 118753, 121226, 123503, 125396, 127083, 128776, 130718, 132816, 135123, 137468, 139549, 141370, 143043, 144945, 147211, 149408, 151498, 153535, 155412, 157859, 160165, 162884, 165887, 169195, 172053, 174796, 177571, 180646, 184268, 187537, 190665, 194109, 196989, 200035, 203342, 207203, 210940, 214746, 218382, 221523, 225030, 228993, 232628, 236519, 240687, 244676, 248852, 252923, 257388, 262022, 266845, 271339, 275213, 278722, 282724, 287008, 291182]\n"
     ]
    }
   ],
   "source": [
    "#cases = read_covid()\n",
    "#print(cases)\n",
    "#output diharapkan\n",
    "# [57770,60695, ..., 291182]\n",
    "import json\n",
    "\n",
    "def read_covid():\n",
    "    file_json = open('3.json')\n",
    "    data = json.load(file_json)\n",
    "    case = []\n",
    "    for n in data:\n",
    "        case.append(n['Cases'])\n",
    "    return case\n",
    "\n",
    "cases = read_covid()\n",
    "print(cases)"
   ]
  }
 ]
}