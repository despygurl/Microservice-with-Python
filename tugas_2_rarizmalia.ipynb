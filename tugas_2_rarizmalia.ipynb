{
 "metadata": {
  "language_info": {
   "codemirror_mode": {
    "name": "ipython",
    "version": 3
   },
   "file_extension": ".py",
   "mimetype": "text/x-python",
   "name": "python",
   "nbconvert_exporter": "python",
   "pygments_lexer": "ipython3",
   "version": "3.8.2-final"
  },
  "orig_nbformat": 2,
  "kernelspec": {
   "name": "python3",
   "display_name": "Python 3",
   "language": "python"
  }
 },
 "nbformat": 4,
 "nbformat_minor": 2,
 "cells": [
  {
   "source": [
    "1. Lakukan 4 operasi aritmatika pada 2 variabel di bawah (tambah, kurang, kali, bagi), lalu simpan semua hasilnya didalam list dan tampilkan.\n",
    "\n",
    "var_1 = 10\n",
    "\n",
    "var_2 = 2"
   ],
   "cell_type": "markdown",
   "metadata": {}
  },
  {
   "cell_type": "code",
   "execution_count": 6,
   "metadata": {},
   "outputs": [
    {
     "output_type": "stream",
     "name": "stdout",
     "text": [
      "[12, 8, 20, 5]\n"
     ]
    }
   ],
   "source": [
    "#kerjakan soal no 1 pada sel ini\n",
    "#keluaran yang diharapkan : [12,8,20,5]\n",
    "var_1 = 10\n",
    "var_2 = 2\n",
    "\n",
    "hasil = [var_1+var_2, \n",
    "        var_1-var_2, \n",
    "        var_1*var_2, \n",
    "        var_1//var_2]\n",
    "\n",
    "\n",
    "print(hasil)"
   ]
  },
  {
   "source": [
    "2. Dengan menggunakan index keluarkan nilai dari dua tuple di bawah\n",
    "\n",
    "a. ('Budi', 'Rani', 'Indah', 'Ilham')\n",
    "\n",
    "b. (20, 18, 22, 27)\n",
    "\n",
    "dari tuple a keluarkan Rani, dan dari tuple B keluarkan 22. lalu tampilkan dengan print()"
   ],
   "cell_type": "markdown",
   "metadata": {}
  },
  {
   "cell_type": "code",
   "execution_count": 12,
   "metadata": {},
   "outputs": [
    {
     "output_type": "stream",
     "name": "stdout",
     "text": [
      "Rani adalah mahasiswi yang berusia 22 tahun\n"
     ]
    }
   ],
   "source": [
    "#kerjakan soal no 2 pada sel ini\n",
    "#keluaran yang diharapkan: \"Rani adalah mahasiswi yang berusia 22 tahun\"\n",
    "nama = ('Budi', 'Rani', 'Indah', 'Ilham')\n",
    "umur = (20, 18, 22, 27)\n",
    "\n",
    "print(f\"{nama[1]} adalah mahasiswi yang berusia {umur[2]} tahun\")"
   ]
  },
  {
   "source": [
    "3. Ambil semua value dalam dictionary berikut dan masukkan ke dalam set untuk mengetahui kota mana saja mereka berasal\n",
    "\n",
    "data_dict = {'Rudi':'bandung', 'Nina':'jakarta', 'Mia':'semarang', 'Indah':'bandung', 'Salman':'surabaya', 'Mikail':'jakarta'}"
   ],
   "cell_type": "markdown",
   "metadata": {}
  },
  {
   "cell_type": "code",
   "execution_count": 24,
   "metadata": {},
   "outputs": [
    {
     "output_type": "stream",
     "name": "stdout",
     "text": [
      "{'jakarta', 'bandung', 'semarang', 'surabaya'}\n"
     ]
    }
   ],
   "source": [
    "#kerjakan soal no 3 pada sel ini\n",
    "#keluaran yang diharapkan: {'bandung','jakarta','semarang','surabaya'}\n",
    "data_dict = {'Rudi':'bandung', 'Nina':'jakarta', 'Mia':'semarang', 'Indah':'bandung', 'Salman':'surabaya', 'Mikail':'jakarta'}\n",
    "data_set = set(data_dict.values())\n",
    "print(data_set)"
   ]
  }
 ]
}