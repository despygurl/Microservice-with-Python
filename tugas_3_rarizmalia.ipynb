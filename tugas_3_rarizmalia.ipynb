{
 "metadata": {
  "language_info": {
   "codemirror_mode": {
    "name": "ipython",
    "version": 3
   },
   "file_extension": ".py",
   "mimetype": "text/x-python",
   "name": "python",
   "nbconvert_exporter": "python",
   "pygments_lexer": "ipython3",
   "version": "3.8.2-final"
  },
  "orig_nbformat": 2,
  "kernelspec": {
   "name": "python3",
   "display_name": "Python 3",
   "language": "python"
  }
 },
 "nbformat": 4,
 "nbformat_minor": 2,
 "cells": [
  {
   "source": [
    "1. Keluarkan dan tampilkan menggunakan print semua anggota list pada sel dibawah"
   ],
   "cell_type": "markdown",
   "metadata": {}
  },
  {
   "cell_type": "code",
   "execution_count": 1,
   "metadata": {},
   "outputs": [
    {
     "output_type": "stream",
     "name": "stdout",
     "text": [
      "bandung\njakarta\nsemarang\npalembang\n"
     ]
    }
   ],
   "source": [
    "#kerjakan soal no.1 pada sel berikut ini\n",
    "#contoh list = [1,2,3]\n",
    "#contoh hasil\n",
    "#1\n",
    "#2\n",
    "#3\n",
    "\n",
    "data_list = ['bandung', 'jakarta', 'semarang', 'palembang']\n",
    "\n",
    "for data in data_list:\n",
    "    print(data)"
   ]
  },
  {
   "source": [
    "2. Keluarkan dan tampilkan menggunakan metode print anggota list dengan tipe numerik dari list pada sel di bawah"
   ],
   "cell_type": "markdown",
   "metadata": {}
  },
  {
   "cell_type": "code",
   "execution_count": 1,
   "metadata": {},
   "outputs": [
    {
     "output_type": "stream",
     "name": "stdout",
     "text": [
      "100\n15.5\n"
     ]
    }
   ],
   "source": [
    "#kerjakan soal no.2 pada sel berikut ini\n",
    "#contoh list = ['a', 1]\n",
    "#contoh hasil :\n",
    "#1\n",
    "\n",
    "data_list_2 = [100, 'makassar', 15.5, True]\n",
    "\n",
    "for data in data_list_2:\n",
    "    if type(data) == int or type(data) == float:\n",
    "        print(data)"
   ]
  },
  {
   "source": [
    "3. lakukan pengecekan apakah terdapat angka pada tiap2 anggota list. lalu tampilkan sesuai format yang diminta"
   ],
   "cell_type": "markdown",
   "metadata": {}
  },
  {
   "cell_type": "code",
   "execution_count": 87,
   "metadata": {},
   "outputs": [
    {
     "output_type": "stream",
     "name": "stdout",
     "text": [
      "asda8asd  memiliki angka\nbandunglautanapi  tidak memiliki angka\nwashingt0nDC  memiliki angka\n"
     ]
    }
   ],
   "source": [
    "#kerjakan soal no.3 pada sel berikut ini\n",
    "#contoh list = ['ada', 'ganesa10']\n",
    "#contoh hasil:\n",
    "#ada tidak memiliki angka\n",
    "#ganesa10 memiliki angka\n",
    "\n",
    "data_list_3 = ['asda8asd', 'bandunglautanapi', 'washingt0nDC']\n",
    "\n",
    "for data in data_list_3:\n",
    "    number = [1,2,3,4,5,6,7,8,9,0]\n",
    "    contain_number = any(num in data for num in str(number))\n",
    "    if contain_number:\n",
    "        print(data, ' memiliki angka')\n",
    "    else:\n",
    "        print(data, ' tidak memiliki angka')"
   ]
  },
  {
   "source": [
    "4. keluarkan masing-masing value pada key \"nama\" dan \"nilai\" dari dictionary di dalam list pada sel di bawah. lalu masukkan pada list sehingga satu nama & nilai berada dalam satu list. lalu kumpulkan semua list dalam satu list lainnya."
   ],
   "cell_type": "markdown",
   "metadata": {}
  },
  {
   "cell_type": "code",
   "execution_count": 126,
   "metadata": {},
   "outputs": [
    {
     "output_type": "stream",
     "name": "stdout",
     "text": [
      "hasil = [['budi', 90, 86, 90], ['Nina', 87, 69, 78], ['Rudi', 88, 67, 91]]\n"
     ]
    }
   ],
   "source": [
    "#kerjakan soal no.4 pada sel berikut ini\n",
    "\n",
    "data_dict = [\n",
    "    {\n",
    "        \"nama\":\"budi\",\n",
    "        \"nilai\": {\n",
    "            \"matematika\" : 90,\n",
    "            \"fisika\" : 86,\n",
    "            \"biologi\" : 90\n",
    "        }\n",
    "    },\n",
    "    {\n",
    "        \"nama\":\"Nina\",\n",
    "        \"nilai\": {\n",
    "            \"matematika\" : 87,\n",
    "            \"fisika\" : 69,\n",
    "            \"biologi\" : 78\n",
    "        }\n",
    "    },\n",
    "    {\n",
    "        \"nama\":\"Rudi\",\n",
    "        \"nilai\": {\n",
    "            \"matematika\" : 88,\n",
    "            \"fisika\" : 67,\n",
    "            \"biologi\" : 91\n",
    "        }\n",
    "    }\n",
    "]\n",
    "\n",
    "#hasil yang diharapkan\n",
    "#hasil = [[\"budi\",90,86,90],[\"Nina\",87,69,78],[\"Rudi\",88,67,91]]\n",
    "\n",
    "hasil = []\n",
    "for n in data_dict:\n",
    "    has=[n['nama'], n['nilai']['matematika'], n['nilai']['fisika'], n['nilai']['biologi']]\n",
    "    hasil.append(has)\n",
    "\n",
    "print(\"hasil =\", hasil)"
   ]
  }
 ]
}