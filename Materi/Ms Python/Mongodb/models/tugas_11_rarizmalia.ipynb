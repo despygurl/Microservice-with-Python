{
 "metadata": {
  "language_info": {
   "codemirror_mode": {
    "name": "ipython",
    "version": 3
   },
   "file_extension": ".py",
   "mimetype": "text/x-python",
   "name": "python",
   "nbconvert_exporter": "python",
   "pygments_lexer": "ipython3",
   "version": "3.8.2-final"
  },
  "orig_nbformat": 2,
  "kernelspec": {
   "name": "python382jvsc74a57bd0e9d12dcec784c5cd06472c2b4df84608afba6c2aea0afa24b7428b5f294bac5f",
   "display_name": "Python 3.8.2 32-bit"
  }
 },
 "nbformat": 4,
 "nbformat_minor": 2,
 "cells": [
  {
   "cell_type": "code",
   "execution_count": null,
   "metadata": {},
   "outputs": [],
   "source": [
    "from pymongo import MongoClient\n",
    "from bson import ObjectId\n",
    "import csv"
   ]
  },
  {
   "source": [
    "Buatlah empat fungsi yang belum terisi pada materi hari ini.\n",
    "\n",
    "1. fungsi pertama untuk mencari dan melakukan return semua data\n",
    "\n",
    "2. fungsi kedua adalah untuk mencari dan melakukan return data dengan masukan idnya.\n",
    "\n",
    "3. fungsi untuk mengubah data buku.\n",
    "\n",
    "4. fungsi untuk menghapus buku."
   ],
   "cell_type": "markdown",
   "metadata": {}
  },
  {
   "cell_type": "code",
   "execution_count": null,
   "metadata": {},
   "outputs": [],
   "source": [
    "def showBooks(self):\n",
    "    result = self.mongo_col.find()\n",
    "    return result\n",
    "\n",
    "def show_books():\n",
    "    for data in db.showBooks():\n",
    "        print(data)\n",
    "\n",
    "if __name__ == '__main__':\n",
    "    db = db()\n",
    "\n",
    "    show_books()    \n",
    "\n",
    "    db.nosql_db.close()"
   ]
  },
  {
   "cell_type": "code",
   "execution_count": null,
   "metadata": {},
   "outputs": [],
   "source": [
    "def showBooksById(self,id):\n",
    "    query = {\"_id\": ObjectId(id)}\n",
    "    result = self.mongo_col.find(query)\n",
    "    return result\n",
    "\n",
    "def search_books_id(params):\n",
    "    for bk in db.showBooksById(params):\n",
    "        print(bk)\n",
    "\n",
    "if __name__ == '__main__':\n",
    "    db = db()\n",
    "\n",
    "    id_book = input('Input id buku untuk pencarian data buku: ')\n",
    "    search_books_id(id_book)\n",
    "    \n",
    "\n",
    "    db.nosql_db.close()"
   ]
  },
  {
   "cell_type": "code",
   "execution_count": null,
   "metadata": {},
   "outputs": [],
   "source": [
    "def updateBookById(self, data):\n",
    "    self.mongo_col.update_one(*data)\n",
    "\n",
    "def update_id():\n",
    "    try:\n",
    "        id_book = input(\"Masukkan id yang ingin diubah: \")\n",
    "        nama = input(\"Masukkan nama terupdate: \")\n",
    "        pengarang = input(\"Masukkan nama pengarang terupdate: \") \n",
    "        tahun_terbit = input(\"Masukkan tahun terbit terupdate: \")\n",
    "        genre = input(\"Masukkan genre terupdate: \")\n",
    "\n",
    "        print(\"\\n====== Data Awal ======\")\n",
    "        show_awal = db.showBooksById(id_book)\n",
    "        for buku in show_awal:\n",
    "            print(buku,\"\\n\")\n",
    "\n",
    "        data = {\"_id\":ObjectId(id_book)},{\n",
    "            \"$set\": {\n",
    "            \"nama\":nama,\n",
    "            \"pengarang\":pengarang,\n",
    "            \"tahun terbit\":tahun_terbit,\n",
    "            \"genre\":genre}}\n",
    "        db.updateBookById(data)\n",
    "\n",
    "        print(\"\\n====== Data Update ======\")\n",
    "        show_update = db.showBooksById(id_book)\n",
    "        for buku in show_update:\n",
    "            print(buku)\n",
    "\n",
    "    except Exception as e:\n",
    "        print('Kesalahan pada saat memasukkan data: {}'.format(e))\n",
    "\n",
    "\n",
    "\n",
    "if __name__ == '__main__':\n",
    "    db = db()\n",
    "\n",
    "    update_id()\n",
    "    \n",
    "    db.nosql_db.close()"
   ]
  },
  {
   "cell_type": "code",
   "execution_count": null,
   "metadata": {},
   "outputs": [],
   "source": [
    "def deleteBookById(self,id):\n",
    "    query = {\"_id\": ObjectId(id)}\n",
    "    result = self.mongo_col.delete_one(query)\n",
    "    return result\n",
    "\n",
    "def delete_books_id(params):\n",
    "    db.deleteBookById(params)\n",
    "    print(\"Data sudah dihapus\")\n",
    "\n",
    "if __name__ == '__main__':\n",
    "    db = db()\n",
    "\n",
    "\n",
    "    id_book = input('Input id buku untuk pencarian data buku: ')\n",
    "    delete_books_id(id_book)\n",
    "\n",
    "    db.nosql_db.close()"
   ]
  }
 ]
}