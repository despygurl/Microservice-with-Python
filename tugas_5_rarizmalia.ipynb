{
 "metadata": {
  "language_info": {
   "codemirror_mode": {
    "name": "ipython",
    "version": 3
   },
   "file_extension": ".py",
   "mimetype": "text/x-python",
   "name": "python",
   "nbconvert_exporter": "python",
   "pygments_lexer": "ipython3",
   "version": "3.8.2-final"
  },
  "orig_nbformat": 2,
  "kernelspec": {
   "name": "python3",
   "display_name": "Python 3.8.2 32-bit",
   "metadata": {
    "interpreter": {
     "hash": "e9d12dcec784c5cd06472c2b4df84608afba6c2aea0afa24b7428b5f294bac5f"
    }
   }
  }
 },
 "nbformat": 4,
 "nbformat_minor": 2,
 "cells": [
  {
   "source": [
    "Buatlah sebuah class yang memiliki masukkan sebuah dua buah angka. class tersebut memiliki tiga fungsi/method. \n",
    "\n",
    "fungsi pertama digunakan untuk untuk mencari tahu apakah nilai tersebut ganjil atau genap, fungsi ini merupakan fungsi tanpa return dengan print. Fungsi ini harus diinisiasi setelah pembuatan objek.\n",
    "\n",
    "fungsi kedua untuk melakukan pangkat dua masing-masing terhadap kedua bilangan tersebut. Fungsi ini merupakan fungsi tanpa return. Fungsi ini tidak diinisiasi setelah pembuatan objek.\n",
    "\n",
    "Fungsi ketiga adalah fungsi untuk mencari fpb dari hasil pada fungsi kedua. gunakan hasil dari fungsi kedua. fungsi ini merupakan fungsi dengan return."
   ],
   "cell_type": "markdown",
   "metadata": {}
  },
  {
   "cell_type": "code",
   "execution_count": 47,
   "metadata": {},
   "outputs": [
    {
     "output_type": "stream",
     "name": "stdout",
     "text": [
      "9 merupakan bilangan ganjil, 24 merupakan bilangan genap\nFPB dari 81 dan 576 adalah 9\n"
     ]
    }
   ],
   "source": [
    "class materi_hitung:\n",
    "    def __init__(self,var_1,var_2):\n",
    "        self.var_1 = var_1\n",
    "        self.var_2 = var_2 \n",
    "\n",
    "    def f_satu(self):\n",
    "        #fungsi untuk menampilkan bilangan ganjil atau genap\n",
    "        #tanpa return\n",
    "        if self.var_1 % 2 == 0:\n",
    "            print(f\"{self.var_1} merupakan bilangan genap\",end=\", \")\n",
    "        else:\n",
    "            print(f\"{self.var_1} merupakan bilangan ganjil\",end=\", \")\n",
    "\n",
    "        if self.var_2 % 2 == 0:\n",
    "            print(f\"{self.var_2} merupakan bilangan genap\")\n",
    "        else:\n",
    "            print(f\"{self.var_2} merupakan bilangan ganjil\")\n",
    "\n",
    "\n",
    "    def f_dua(self):\n",
    "        #fungsi tanpa return\n",
    "        #untuk melakukan pangkat dua\n",
    "        # bilangan = [self.var_1, self.var_2]\n",
    "        # pangkat = list(map(lambda x: x ** 2,bilangan))\n",
    "        # print(\"List Pangkat: \",pangkat)\n",
    "        self.pangkat_1 = self.var_1 ** 2\n",
    "        self.pangkat_2 = self.var_2 ** 2\n",
    "          \n",
    "\n",
    "    def f_tiga(self):\n",
    "        #fungsi dengan return\n",
    "        #untuk mencari fpb dan mengembalikan nilai fpbnya\n",
    "        self.f_dua()\n",
    "        if self.pangkat_1 > self.pangkat_2:\n",
    "            small = self.pangkat_2\n",
    "        else:\n",
    "            small = self.pangkat_1\n",
    "        \n",
    "        for n in range(1, small+1):\n",
    "            if((self.pangkat_1 % n == 0) and (self.pangkat_2 % n == 0)):\n",
    "                fpb = n\n",
    "        print(\"FPB dari {} dan {} adalah {}\".format(self.pangkat_1, self.pangkat_2, fpb))\n",
    "        \n",
    "        \n",
    "\n",
    "var_1 = 9\n",
    "var_2 = 24\n",
    "tugas = materi_hitung(var_1,var_2)\n",
    "tugas.f_satu()\n",
    "tugas.f_tiga()\n",
    "tugas.f_dua()\n",
    "\n",
    "#output\n",
    "#9 merupakan bilangan ganjil, 24 merupakan bilangan genap\n",
    "#FPB dari 81 dan 576 adalah 9"
   ]
  }
 ]
}