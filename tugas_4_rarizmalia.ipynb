{
 "metadata": {
  "language_info": {
   "codemirror_mode": {
    "name": "ipython",
    "version": 3
   },
   "file_extension": ".py",
   "mimetype": "text/x-python",
   "name": "python",
   "nbconvert_exporter": "python",
   "pygments_lexer": "ipython3",
   "version": "3.8.2-final"
  },
  "orig_nbformat": 2,
  "kernelspec": {
   "name": "python3",
   "display_name": "Python 3",
   "language": "python"
  }
 },
 "nbformat": 4,
 "nbformat_minor": 2,
 "cells": [
  {
   "source": [
    "1. Buatlah sebuah fungsi untuk mengecek apakah suatu string palindrom atau bukan"
   ],
   "cell_type": "markdown",
   "metadata": {}
  },
  {
   "cell_type": "code",
   "execution_count": 43,
   "metadata": {},
   "outputs": [
    {
     "output_type": "stream",
     "name": "stdout",
     "text": [
      "makam merupakan palindrom\n"
     ]
    }
   ],
   "source": [
    "#kerjakan soal no.1 pada sel ini\n",
    "#contoh: data = 'makam'\n",
    "#test_palindrom(data)\n",
    "#makam merupakan palindrom\n",
    "\n",
    "kata = input('Silakan input kata: ')\n",
    "\n",
    "def test_palindrom(data):    \n",
    "    if data == data[::-1]:\n",
    "        print(data,'merupakan palindrom')\n",
    "    else:\n",
    "        print(data, 'bukan palindrom')\n",
    "\n",
    "\n",
    "test_palindrom(kata)"
   ]
  },
  {
   "source": [
    "2. Buatlah sebuah fungsi lambda untuk mencari nilai rata-rata dari sebuah list. Lalu aplikasikan fungsi tersebut pada key \"nilai\" pada dictionary di bawah. Hasilnya masukkan menjadi key baru (Nilai rata-rata) pada nama masing-masing (data/variabel sama)."
   ],
   "cell_type": "markdown",
   "metadata": {}
  },
  {
   "cell_type": "code",
   "execution_count": 23,
   "metadata": {},
   "outputs": [
    {
     "output_type": "stream",
     "name": "stdout",
     "text": [
      "[{'Nama': 'Tono', 'Nilai': [47, 50, 81, 30, 22], 'Rata-rata Nilai': 46.0}, {'Nama': 'Lisa', 'Nilai': [58, 82, 26, 26, 71], 'Rata-rata Nilai': 52.6}, {'Nama': 'Ali', 'Nilai': [40, 47, 16, 77, 71], 'Rata-rata Nilai': 50.2}, {'Nama': 'Isna', 'Nilai': [53, 29, 21, 39, 6], 'Rata-rata Nilai': 29.6}]\n"
     ]
    }
   ],
   "source": [
    "#kerjakan soal no.2 pada sel berikut ini\n",
    "#output: print(data_siswa)\n",
    "# [{'Nama': 'Tono', 'Nilai': [47, 50, 81, 30, 22], 'Rata-rata nilai': 46.0},\n",
    "# {'Nama': 'Lisa', 'Nilai': [58, 82, 26, 26, 71], 'Rata-rata nilai': 52.6},\n",
    "# {'Nama': 'Ali', 'Nilai': [40, 47, 16, 77, 71], 'Rata-rata nilai': 50.2},\n",
    "# {'Nama': 'Isna', 'Nilai': [53, 29, 21, 39, 6], 'Rata-rata nilai': 29.6}]\n",
    "\n",
    "data_siswa = [\n",
    "    {\n",
    "        \"Nama\":\"Tono\",\n",
    "        \"Nilai\":[47, 50, 81, 30, 22]\n",
    "    },\n",
    "    {\n",
    "        \"Nama\":\"Lisa\",\n",
    "        \"Nilai\":[58, 82, 26, 26, 71]\n",
    "    },\n",
    "    {\n",
    "        \"Nama\":\"Ali\",\n",
    "        \"Nilai\":[40, 47, 16, 77, 71]\n",
    "    },\n",
    "    {\n",
    "        \"Nama\":\"Isna\",\n",
    "        \"Nilai\":[53, 29, 21, 39, 6]\n",
    "    }\n",
    "]\n",
    "\n",
    "for n in data_siswa:\n",
    "    re_rata = lambda x : sum(x)/len(x)\n",
    "    n['Rata-rata Nilai'] = re_rata(n['Nilai'])\n",
    "\n",
    "print(data_siswa)"
   ]
  }
 ]
}