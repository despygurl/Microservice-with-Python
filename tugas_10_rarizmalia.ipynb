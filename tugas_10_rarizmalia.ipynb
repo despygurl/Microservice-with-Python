{
 "metadata": {
  "language_info": {
   "codemirror_mode": {
    "name": "ipython",
    "version": 3
   },
   "file_extension": ".py",
   "mimetype": "text/x-python",
   "name": "python",
   "nbconvert_exporter": "python",
   "pygments_lexer": "ipython3",
   "version": 3
  },
  "orig_nbformat": 2
 },
 "nbformat": 4,
 "nbformat_minor": 2,
 "cells": [
  {
   "source": [
    "Buatlah dua fungsi yang belum terisi pada materi hari ini.\n",
    "\n",
    "1. fungsi pertama untuk mencari dan melakukan return semua data\n",
    "\n",
    "2. fungsi kedua adalah untuk mencari dan melakukan return data dengan masukan idnya. Untuk fungsi ini struktur data yang menjadi input fungsi sama dengan saat akan melakukan penghapusan."
   ],
   "cell_type": "markdown",
   "metadata": {}
  },
  {
   "cell_type": "code",
   "execution_count": null,
   "metadata": {},
   "outputs": [],
   "source": [
    "# === Fungsi di customers.py ===\n",
    "def showUsers(self):\n",
    "    try:\n",
    "            show_query ='select * from customers'\n",
    "            cursor = self.db.cursor()\n",
    "            cursor.execute(show_query)\n",
    "            data = cursor.fetchall()\n",
    "            for row in data:\n",
    "                print(row)\n",
    "        except Exception as e:\n",
    "            print(e)\n",
    "\n",
    "\n",
    "# === Fungsi di app.py ===\n",
    "def showAll():\n",
    "    mysqldb.showUsers()\n",
    "    mysqldb.dataCommit()\n",
    "\n",
    "# Lalu panggil fungsi showAll() agar hasilnya tampil di terminal\n",
    "if __name__ == '__main__':\n",
    "    mysqldb = database()\n",
    "    if mysqldb.db.is_connected():\n",
    "        print('Connected to MySQL database')\n",
    "    \n",
    "    showAll()    #Memanggil fungsi showAll()\n",
    "\n",
    "    if mysqldb.db is not None and mysqldb.db.is_connected():\n",
    "        mysqldb.db.close()"
   ]
  },
  {
   "cell_type": "code",
   "execution_count": null,
   "metadata": {},
   "outputs": [],
   "source": [
    "# === Fungsi di customers.py ===\n",
    "def showUsers(self):\n",
    "def showUserById(self):\n",
    "    try:\n",
    "            id = int(input(\"Masukkan id customer: \"))\n",
    "            showid_query ='select * from customers where USERID = {0}'.format(id)\n",
    "            cursor = self.db.cursor()\n",
    "            cursor.execute(showid_query)\n",
    "            dt = cursor.fetchall()\n",
    "            for row in dt:\n",
    "                print(row)\n",
    "        except Exception as e:\n",
    "            print(e)\n",
    "\n",
    "\n",
    "# === Fungsi di app.py ===\n",
    "def shows_id():\n",
    "    mysqldb.showUserById()\n",
    "    mysqldb.dataCommit()\n",
    "\n",
    "\n",
    "# Lalu panggil fungsi shows_id() agar hasilnya tampil di terminal\n",
    "if __name__ == '__main__':\n",
    "    mysqldb = database()\n",
    "    if mysqldb.db.is_connected():\n",
    "        print('Connected to MySQL database')\n",
    "\n",
    "    shows_id()   #Memanggil fungsi shows_id()\n",
    "\n",
    "    if mysqldb.db is not None and mysqldb.db.is_connected():\n",
    "        mysqldb.db.close()"
   ]
  }
 ]
}